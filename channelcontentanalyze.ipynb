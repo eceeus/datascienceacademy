{
 "cells": [
  {
   "cell_type": "code",
   "execution_count": 1,
   "id": "4ccb5c04",
   "metadata": {},
   "outputs": [],
   "source": [
    "import matplotlib.pyplot as plt\n",
    "from datetime import datetime"
   ]
  },
  {
   "cell_type": "markdown",
   "id": "b922502d",
   "metadata": {},
   "source": [
    "{\"kind\":\"youtube#channelListResponse\",\"etag\":\"aYcHQ-GBTd42k2zr4agJjzAeSgM\",\"pageInfo\":{\"totalResults\":1,\"resultsPerPage\":5},\"items\":[{\"kind\":\"youtube#channel\",\"etag\":\"aL8V-6GhqvaLgM0uxsCpOCfndtY\",\"id\":\"UCRcHYvd4zi0ejbkQLo9raNw\",\"snippet\":{\"title\":\"Amerika'da Bir Ada\",\"description\":\"Merhabalar 🫶🏻 Benim ismim Ada, 2014’te basketbol bursuyla Amerika’ya gelip universite ve yuksek lisansimi tamamladiktan sonra evlendim & simdi Los Angeles’ta yasiyorum. Kanalimda Amerika'daki hayatimdan VLOGlar, saglikli yasam ve tarifler, seyahat videolari veya hayata dair duygu ve dusuncelerimden bahsettigim icerikler bulabilirsiniz 🤓 Eger siz de hayatima dahil olmak isterseniz, kanalima abone olmayi unutmayin!\",\"customUrl\":\"@amerikadabirada\",\"publishedAt\":\"2011-08-27T20:12:22Z\",\"thumbnails\":{\"default\":{\"url\":\"https://yt3.ggpht.com/B57PN9NtLPek8QTStISNyEMF423bgWfJQTev33uNrcbzbIrBPhvnLLVF0zV4AxaNE4oHD93t=s88-c-k-c0x00ffffff-no-rj\",\"width\":88,\"height\":88},\"medium\":{\"url\":\"https://yt3.ggpht.com/B57PN9NtLPek8QTStISNyEMF423bgWfJQTev33uNrcbzbIrBPhvnLLVF0zV4AxaNE4oHD93t=s240-c-k-c0x00ffffff-no-rj\",\"width\":240,\"height\":240},\"high\":{\"url\":\"https://yt3.ggpht.com/B57PN9NtLPek8QTStISNyEMF423bgWfJQTev33uNrcbzbIrBPhvnLLVF0zV4AxaNE4oHD93t=s800-c-k-c0x00ffffff-no-rj\",\"width\":800,\"height\":800}},\"localized\":{\"title\":\"Amerika'da Bir Ada\",\"description\":\"Merhabalar 🫶🏻 Benim ismim Ada, 2014’te basketbol bursuyla Amerika’ya gelip universite ve yuksek lisansimi tamamladiktan sonra evlendim & simdi Los Angeles’ta yasiyorum. Kanalimda Amerika'daki hayatimdan VLOGlar, saglikli yasam ve tarifler, seyahat videolari veya hayata dair duygu ve dusuncelerimden bahsettigim icerikler bulabilirsiniz 🤓 Eger siz de hayatima dahil olmak isterseniz, kanalima abone olmayi unutmayin!\"},\"country\":\"US\"},\"contentDetails\":{\"relatedPlaylists\":{\"likes\":\"\",\"uploads\":\"UURcHYvd4zi0ejbkQLo9raNw\"}},\"statistics\":{\"viewCount\":\"46403848\",\"subscriberCount\":\"280000\",\"hiddenSubscriberCount\":false,\"videoCount\":\"247\"}}]}"
   ]
  },
  {
   "cell_type": "code",
   "execution_count": 6,
   "id": "55a110aa",
   "metadata": {},
   "outputs": [
    {
     "ename": "NameError",
     "evalue": "name 'response' is not defined",
     "output_type": "error",
     "traceback": [
      "\u001b[31m---------------------------------------------------------------------------\u001b[39m",
      "\u001b[31mNameError\u001b[39m                                 Traceback (most recent call last)",
      "\u001b[36mCell\u001b[39m\u001b[36m \u001b[39m\u001b[32mIn[6]\u001b[39m\u001b[32m, line 3\u001b[39m\n\u001b[32m      1\u001b[39m \u001b[38;5;28;01mfrom\u001b[39;00m\u001b[38;5;250m \u001b[39m\u001b[34;01mdatetime\u001b[39;00m\u001b[38;5;250m \u001b[39m\u001b[38;5;28;01mimport\u001b[39;00m datetime\n\u001b[32m----> \u001b[39m\u001b[32m3\u001b[39m item =\u001b[43mresponse\u001b[49m[\u001b[33m\"\u001b[39m\u001b[33mitems\u001b[39m\u001b[33m\"\u001b[39m][\u001b[32m0\u001b[39m]\n\u001b[32m      5\u001b[39m subscriberCount = \u001b[38;5;28mint\u001b[39m(item[\u001b[33m\"\u001b[39m\u001b[33mstatistcs\u001b[39m\u001b[33m\"\u001b[39m][\u001b[33m\"\u001b[39m\u001b[33msubscriber_Count\u001b[39m\u001b[33m\"\u001b[39m])\n\u001b[32m      6\u001b[39m viewCount = \u001b[38;5;28mint\u001b[39m(item[\u001b[33m\"\u001b[39m\u001b[33mstatistcs\u001b[39m\u001b[33m\"\u001b[39m][\u001b[33m\"\u001b[39m\u001b[33mviewCount\u001b[39m\u001b[33m\"\u001b[39m])\n",
      "\u001b[31mNameError\u001b[39m: name 'response' is not defined"
     ]
    }
   ],
   "source": [
    "from datetime import datetime\n",
    "\n",
    "item =response[\"items\"][0]\n",
    "\n",
    "subscriberCount = int(item[\"statistcs\"][\"subscriber_Count\"])\n",
    "viewCount = int(item[\"statistcs\"][\"viewCount\"])\n",
    "videoCount = int(item[\"statistcs\"][\"videoCount\"])\n",
    "\n",
    "published_date = datetime.strptime(item[\"snippet\"][\"publishedAt\"], \"%Y-%m-%dT%H:%M:%SZ\")\n",
    "today = datetime.today()\n",
    "\n",
    "total_months = (today.year - publieshed_date_year) * 12 + (today.year - publieshed_date_year)\n",
    "\n",
    "avg_monthly_videos = round(video_count / total_months, 2)\n",
    "avg_monthly_subscribers = round(subscriber_count / total_months, 2)\n",
    "avg_views_per_video = round(view_count / video_count, 2)"
   ]
  }
 ],
 "metadata": {
  "kernelspec": {
   "display_name": "Python 3",
   "language": "python",
   "name": "python3"
  },
  "language_info": {
   "codemirror_mode": {
    "name": "ipython",
    "version": 3
   },
   "file_extension": ".py",
   "mimetype": "text/x-python",
   "name": "python",
   "nbconvert_exporter": "python",
   "pygments_lexer": "ipython3",
   "version": "3.11.11"
  }
 },
 "nbformat": 4,
 "nbformat_minor": 5
}
