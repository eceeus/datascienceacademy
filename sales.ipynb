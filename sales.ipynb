{
 "cells": [
  {
   "cell_type": "code",
   "execution_count": 31,
   "id": "752c96c4",
   "metadata": {},
   "outputs": [],
   "source": [
    "import pandas as pd"
   ]
  },
  {
   "cell_type": "code",
   "execution_count": 4,
   "id": "b0317f42",
   "metadata": {},
   "outputs": [],
   "source": [
    "sales= pd.read_csv(\"sales_data.csv\")"
   ]
  },
  {
   "cell_type": "code",
   "execution_count": 15,
   "id": "a6432538",
   "metadata": {},
   "outputs": [
    {
     "data": {
      "text/html": [
       "<div>\n",
       "<style scoped>\n",
       "    .dataframe tbody tr th:only-of-type {\n",
       "        vertical-align: middle;\n",
       "    }\n",
       "\n",
       "    .dataframe tbody tr th {\n",
       "        vertical-align: top;\n",
       "    }\n",
       "\n",
       "    .dataframe thead th {\n",
       "        text-align: right;\n",
       "    }\n",
       "</style>\n",
       "<table border=\"1\" class=\"dataframe\">\n",
       "  <thead>\n",
       "    <tr style=\"text-align: right;\">\n",
       "      <th></th>\n",
       "      <th>OrderID</th>\n",
       "      <th>Date</th>\n",
       "      <th>CustomerName</th>\n",
       "      <th>Product</th>\n",
       "      <th>Category</th>\n",
       "      <th>Quantity</th>\n",
       "      <th>UnitPrice</th>\n",
       "      <th>TotalPrice</th>\n",
       "      <th>PaymentMethod</th>\n",
       "    </tr>\n",
       "  </thead>\n",
       "  <tbody>\n",
       "    <tr>\n",
       "      <th>0</th>\n",
       "      <td>1001</td>\n",
       "      <td>2024-01-10</td>\n",
       "      <td>Aylin Yılmaz</td>\n",
       "      <td>Telefon</td>\n",
       "      <td>Elektronik</td>\n",
       "      <td>1</td>\n",
       "      <td>8500</td>\n",
       "      <td>8500</td>\n",
       "      <td>Kredi Kartı</td>\n",
       "    </tr>\n",
       "    <tr>\n",
       "      <th>1</th>\n",
       "      <td>1002</td>\n",
       "      <td>2024-01-11</td>\n",
       "      <td>Mehmet Can</td>\n",
       "      <td>Laptop</td>\n",
       "      <td>Elektronik</td>\n",
       "      <td>1</td>\n",
       "      <td>12500</td>\n",
       "      <td>12500</td>\n",
       "      <td>Havale</td>\n",
       "    </tr>\n",
       "    <tr>\n",
       "      <th>2</th>\n",
       "      <td>1003</td>\n",
       "      <td>2024-01-12</td>\n",
       "      <td>Elif Demir</td>\n",
       "      <td>Çanta</td>\n",
       "      <td>Moda</td>\n",
       "      <td>2</td>\n",
       "      <td>450</td>\n",
       "      <td>900</td>\n",
       "      <td>Nakit</td>\n",
       "    </tr>\n",
       "    <tr>\n",
       "      <th>3</th>\n",
       "      <td>1004</td>\n",
       "      <td>2024-01-13</td>\n",
       "      <td>Ahmet Kaya</td>\n",
       "      <td>Ayakkabı</td>\n",
       "      <td>Moda</td>\n",
       "      <td>1</td>\n",
       "      <td>750</td>\n",
       "      <td>750</td>\n",
       "      <td>Kredi Kartı</td>\n",
       "    </tr>\n",
       "    <tr>\n",
       "      <th>4</th>\n",
       "      <td>1005</td>\n",
       "      <td>2024-01-14</td>\n",
       "      <td>Selin Aksoy</td>\n",
       "      <td>Tablet</td>\n",
       "      <td>Elektronik</td>\n",
       "      <td>1</td>\n",
       "      <td>6200</td>\n",
       "      <td>6200</td>\n",
       "      <td>Kredi Kartı</td>\n",
       "    </tr>\n",
       "  </tbody>\n",
       "</table>\n",
       "</div>"
      ],
      "text/plain": [
       "   OrderID        Date  CustomerName   Product    Category  Quantity  \\\n",
       "0     1001  2024-01-10  Aylin Yılmaz   Telefon  Elektronik         1   \n",
       "1     1002  2024-01-11    Mehmet Can    Laptop  Elektronik         1   \n",
       "2     1003  2024-01-12    Elif Demir     Çanta        Moda         2   \n",
       "3     1004  2024-01-13    Ahmet Kaya  Ayakkabı        Moda         1   \n",
       "4     1005  2024-01-14   Selin Aksoy    Tablet  Elektronik         1   \n",
       "\n",
       "   UnitPrice  TotalPrice PaymentMethod  \n",
       "0       8500        8500   Kredi Kartı  \n",
       "1      12500       12500        Havale  \n",
       "2        450         900         Nakit  \n",
       "3        750         750   Kredi Kartı  \n",
       "4       6200        6200   Kredi Kartı  "
      ]
     },
     "execution_count": 15,
     "metadata": {},
     "output_type": "execute_result"
    }
   ],
   "source": [
    "sales.head()\n",
    "#veri setinin ilk 5 satırını .head() ile getiriyorum.\n"
   ]
  },
  {
   "cell_type": "code",
   "execution_count": 14,
   "id": "29946177",
   "metadata": {},
   "outputs": [
    {
     "data": {
      "text/plain": [
       "OrderID           int64\n",
       "Date             object\n",
       "CustomerName     object\n",
       "Product          object\n",
       "Category         object\n",
       "Quantity          int64\n",
       "UnitPrice         int64\n",
       "TotalPrice        int64\n",
       "PaymentMethod    object\n",
       "dtype: object"
      ]
     },
     "execution_count": 14,
     "metadata": {},
     "output_type": "execute_result"
    }
   ],
   "source": [
    "sales.dtypes\n",
    "#veri setindeki değişkenlerin veri tipini .dtypes ile gözlemiyorum"
   ]
  },
  {
   "cell_type": "markdown",
   "id": "18c114e2",
   "metadata": {},
   "source": [
    "describe methodu\n",
    "- series veri tipi için kullanılır.(dataframe için kullanılmaz)\n",
    "- karakter vs. gibi tanımsal değerler döner"
   ]
  },
  {
   "cell_type": "code",
   "execution_count": 9,
   "id": "f8bd40ba",
   "metadata": {},
   "outputs": [
    {
     "data": {
      "text/plain": [
       "count           8\n",
       "unique          6\n",
       "top       Telefon\n",
       "freq            2\n",
       "Name: Product, dtype: object"
      ]
     },
     "execution_count": 9,
     "metadata": {},
     "output_type": "execute_result"
    }
   ],
   "source": [
    "sales.Product.describe()"
   ]
  },
  {
   "cell_type": "code",
   "execution_count": 32,
   "id": "352730f9",
   "metadata": {},
   "outputs": [
    {
     "data": {
      "text/plain": [
       "count              8\n",
       "unique             8\n",
       "top       2024-01-10\n",
       "freq               1\n",
       "Name: Date, dtype: object"
      ]
     },
     "execution_count": 32,
     "metadata": {},
     "output_type": "execute_result"
    }
   ],
   "source": [
    "sales.Date.describe()"
   ]
  },
  {
   "cell_type": "code",
   "execution_count": 13,
   "id": "115063d1",
   "metadata": {},
   "outputs": [
    {
     "data": {
      "text/plain": [
       "Product\n",
       "Telefon     2\n",
       "Laptop      2\n",
       "Çanta       1\n",
       "Ayakkabı    1\n",
       "Tablet      1\n",
       "Tshirt      1\n",
       "Name: count, dtype: int64"
      ]
     },
     "execution_count": 13,
     "metadata": {},
     "output_type": "execute_result"
    }
   ],
   "source": [
    "sales.Product.value_counts()\n",
    "#.value_counts() ile o değişkendeki türlerin sayısını görüyorum."
   ]
  },
  {
   "cell_type": "code",
   "execution_count": 12,
   "id": "19e6b2e6",
   "metadata": {},
   "outputs": [
    {
     "data": {
      "text/plain": [
       "Product\n",
       "Telefon     0.250\n",
       "Laptop      0.250\n",
       "Çanta       0.125\n",
       "Ayakkabı    0.125\n",
       "Tablet      0.125\n",
       "Tshirt      0.125\n",
       "Name: proportion, dtype: float64"
      ]
     },
     "execution_count": 12,
     "metadata": {},
     "output_type": "execute_result"
    }
   ],
   "source": [
    "sales.Product.value_counts(normalize=True) \n",
    "#value_counts(normalize=True) ile türlerin yüzdesini bulabiliriz."
   ]
  },
  {
   "cell_type": "code",
   "execution_count": 16,
   "id": "b69d908c",
   "metadata": {},
   "outputs": [
    {
     "data": {
      "text/plain": [
       "pandas.core.series.Series"
      ]
     },
     "execution_count": 16,
     "metadata": {},
     "output_type": "execute_result"
    }
   ],
   "source": [
    "type(sales.Product.value_counts())"
   ]
  },
  {
   "cell_type": "code",
   "execution_count": 20,
   "id": "f824b59d",
   "metadata": {},
   "outputs": [
    {
     "data": {
      "text/plain": [
       "array(['Elektronik', 'Moda'], dtype=object)"
      ]
     },
     "execution_count": 20,
     "metadata": {},
     "output_type": "execute_result"
    }
   ],
   "source": [
    "sales.Category.unique()\n",
    "#tekrar eden değerleri tek görmek için unique kullanıyorum"
   ]
  },
  {
   "cell_type": "code",
   "execution_count": 21,
   "id": "c1752366",
   "metadata": {},
   "outputs": [
    {
     "data": {
      "text/plain": [
       "2"
      ]
     },
     "execution_count": 21,
     "metadata": {},
     "output_type": "execute_result"
    }
   ],
   "source": [
    "sales.Category.nunique()\n",
    "#tekrar eden değerleri tek sayarak kaç tane olduğunu saydırmak için nunique kullanırım."
   ]
  },
  {
   "cell_type": "code",
   "execution_count": 19,
   "id": "2ce15db5",
   "metadata": {},
   "outputs": [
    {
     "data": {
      "text/plain": [
       "count              8\n",
       "unique             2\n",
       "top       Elektronik\n",
       "freq               5\n",
       "Name: Category, dtype: object"
      ]
     },
     "execution_count": 19,
     "metadata": {},
     "output_type": "execute_result"
    }
   ],
   "source": [
    "sales.Category.describe()"
   ]
  },
  {
   "cell_type": "code",
   "execution_count": 24,
   "id": "9a9b281d",
   "metadata": {},
   "outputs": [
    {
     "data": {
      "text/html": [
       "<div>\n",
       "<style scoped>\n",
       "    .dataframe tbody tr th:only-of-type {\n",
       "        vertical-align: middle;\n",
       "    }\n",
       "\n",
       "    .dataframe tbody tr th {\n",
       "        vertical-align: top;\n",
       "    }\n",
       "\n",
       "    .dataframe thead th {\n",
       "        text-align: right;\n",
       "    }\n",
       "</style>\n",
       "<table border=\"1\" class=\"dataframe\">\n",
       "  <thead>\n",
       "    <tr style=\"text-align: right;\">\n",
       "      <th>UnitPrice</th>\n",
       "      <th>120</th>\n",
       "      <th>450</th>\n",
       "      <th>750</th>\n",
       "      <th>6200</th>\n",
       "      <th>8500</th>\n",
       "      <th>9200</th>\n",
       "      <th>11900</th>\n",
       "      <th>12500</th>\n",
       "    </tr>\n",
       "    <tr>\n",
       "      <th>Product</th>\n",
       "      <th></th>\n",
       "      <th></th>\n",
       "      <th></th>\n",
       "      <th></th>\n",
       "      <th></th>\n",
       "      <th></th>\n",
       "      <th></th>\n",
       "      <th></th>\n",
       "    </tr>\n",
       "  </thead>\n",
       "  <tbody>\n",
       "    <tr>\n",
       "      <th>Ayakkabı</th>\n",
       "      <td>0</td>\n",
       "      <td>0</td>\n",
       "      <td>1</td>\n",
       "      <td>0</td>\n",
       "      <td>0</td>\n",
       "      <td>0</td>\n",
       "      <td>0</td>\n",
       "      <td>0</td>\n",
       "    </tr>\n",
       "    <tr>\n",
       "      <th>Laptop</th>\n",
       "      <td>0</td>\n",
       "      <td>0</td>\n",
       "      <td>0</td>\n",
       "      <td>0</td>\n",
       "      <td>0</td>\n",
       "      <td>0</td>\n",
       "      <td>1</td>\n",
       "      <td>1</td>\n",
       "    </tr>\n",
       "    <tr>\n",
       "      <th>Tablet</th>\n",
       "      <td>0</td>\n",
       "      <td>0</td>\n",
       "      <td>0</td>\n",
       "      <td>1</td>\n",
       "      <td>0</td>\n",
       "      <td>0</td>\n",
       "      <td>0</td>\n",
       "      <td>0</td>\n",
       "    </tr>\n",
       "    <tr>\n",
       "      <th>Telefon</th>\n",
       "      <td>0</td>\n",
       "      <td>0</td>\n",
       "      <td>0</td>\n",
       "      <td>0</td>\n",
       "      <td>1</td>\n",
       "      <td>1</td>\n",
       "      <td>0</td>\n",
       "      <td>0</td>\n",
       "    </tr>\n",
       "    <tr>\n",
       "      <th>Tshirt</th>\n",
       "      <td>1</td>\n",
       "      <td>0</td>\n",
       "      <td>0</td>\n",
       "      <td>0</td>\n",
       "      <td>0</td>\n",
       "      <td>0</td>\n",
       "      <td>0</td>\n",
       "      <td>0</td>\n",
       "    </tr>\n",
       "    <tr>\n",
       "      <th>Çanta</th>\n",
       "      <td>0</td>\n",
       "      <td>1</td>\n",
       "      <td>0</td>\n",
       "      <td>0</td>\n",
       "      <td>0</td>\n",
       "      <td>0</td>\n",
       "      <td>0</td>\n",
       "      <td>0</td>\n",
       "    </tr>\n",
       "  </tbody>\n",
       "</table>\n",
       "</div>"
      ],
      "text/plain": [
       "UnitPrice  120    450    750    6200   8500   9200   11900  12500\n",
       "Product                                                          \n",
       "Ayakkabı       0      0      1      0      0      0      0      0\n",
       "Laptop         0      0      0      0      0      0      1      1\n",
       "Tablet         0      0      0      1      0      0      0      0\n",
       "Telefon        0      0      0      0      1      1      0      0\n",
       "Tshirt         1      0      0      0      0      0      0      0\n",
       "Çanta          0      1      0      0      0      0      0      0"
      ]
     },
     "execution_count": 24,
     "metadata": {},
     "output_type": "execute_result"
    }
   ],
   "source": [
    "pd.crosstab(sales.Product,sales.UnitPrice)"
   ]
  },
  {
   "cell_type": "code",
   "execution_count": 25,
   "id": "0ed58900",
   "metadata": {},
   "outputs": [
    {
     "data": {
      "text/plain": [
       "np.float64(6202.5)"
      ]
     },
     "execution_count": 25,
     "metadata": {},
     "output_type": "execute_result"
    }
   ],
   "source": [
    "sales.UnitPrice.mean()"
   ]
  },
  {
   "cell_type": "code",
   "execution_count": 26,
   "id": "fc59f030",
   "metadata": {},
   "outputs": [
    {
     "data": {
      "text/plain": [
       "UnitPrice\n",
       "8500     1\n",
       "12500    1\n",
       "450      1\n",
       "750      1\n",
       "6200     1\n",
       "120      1\n",
       "9200     1\n",
       "11900    1\n",
       "Name: count, dtype: int64"
      ]
     },
     "execution_count": 26,
     "metadata": {},
     "output_type": "execute_result"
    }
   ],
   "source": [
    "sales.UnitPrice.value_counts()"
   ]
  },
  {
   "cell_type": "code",
   "execution_count": 27,
   "id": "1a759b47",
   "metadata": {},
   "outputs": [],
   "source": [
    "%matplotlib inline"
   ]
  },
  {
   "cell_type": "code",
   "execution_count": 28,
   "id": "89d40952",
   "metadata": {},
   "outputs": [
    {
     "data": {
      "text/plain": [
       "<Axes: ylabel='Frequency'>"
      ]
     },
     "execution_count": 28,
     "metadata": {},
     "output_type": "execute_result"
    },
    {
     "data": {
      "image/png": "[encoded data removed]",
      "text/plain": [
       "<Figure size 640x480 with 1 Axes>"
      ]
     },
     "metadata": {},
     "output_type": "display_data"
    }
   ],
   "source": [
    "sales.plot(kind=\"hist\")"
   ]
  },
  {
   "cell_type": "code",
   "execution_count": 29,
   "id": "1cb3431a",
   "metadata": {},
   "outputs": [
    {
     "data": {
      "text/plain": [
       "Product\n",
       "Telefon     2\n",
       "Laptop      2\n",
       "Çanta       1\n",
       "Ayakkabı    1\n",
       "Tablet      1\n",
       "Tshirt      1\n",
       "Name: count, dtype: int64"
      ]
     },
     "execution_count": 29,
     "metadata": {},
     "output_type": "execute_result"
    }
   ],
   "source": [
    "sales.Product.value_counts()"
   ]
  },
  {
   "cell_type": "code",
   "execution_count": 30,
   "id": "bf4c6666",
   "metadata": {},
   "outputs": [
    {
     "data": {
      "text/plain": [
       "<Axes: xlabel='Product'>"
      ]
     },
     "execution_count": 30,
     "metadata": {},
     "output_type": "execute_result"
    },
    {
     "data": {
      "image/png": "[encoded data removed]",
      "text/plain": [
       "<Figure size 640x480 with 1 Axes>"
      ]
     },
     "metadata": {},
     "output_type": "display_data"
    }
   ],
   "source": [
    "sales.Product.value_counts().plot(kind=\"bar\")"
   ]
  }
 ],
 "metadata": {
  "kernelspec": {
   "display_name": "Python 3",
   "language": "python",
   "name": "python3"
  },
  "language_info": {
   "codemirror_mode": {
    "name": "ipython",
    "version": 3
   },
   "file_extension": ".py",
   "mimetype": "text/x-python",
   "name": "python",
   "nbconvert_exporter": "python",
   "pygments_lexer": "ipython3",
   "version": "3.11.11"
  }
 },
 "nbformat": 4,
 "nbformat_minor": 5
}
