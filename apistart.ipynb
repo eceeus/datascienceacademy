{
 "cells": [
  {
   "cell_type": "code",
   "execution_count": 2,
   "id": "b4cdd42d",
   "metadata": {},
   "outputs": [
    {
     "name": "stdout",
     "output_type": "stream",
     "text": [
      "Collecting google-api-python-client\n",
      "  Downloading google_api_python_client-2.169.0-py3-none-any.whl.metadata (6.7 kB)\n",
      "Collecting httplib2<1.0.0,>=0.19.0 (from google-api-python-client)\n",
      "  Downloading httplib2-0.22.0-py3-none-any.whl.metadata (2.6 kB)\n",
      "Collecting google-auth!=2.24.0,!=2.25.0,<3.0.0,>=1.32.0 (from google-api-python-client)\n",
      "  Downloading google_auth-2.40.1-py2.py3-none-any.whl.metadata (6.2 kB)\n",
      "Collecting google-auth-httplib2<1.0.0,>=0.2.0 (from google-api-python-client)\n",
      "  Downloading google_auth_httplib2-0.2.0-py2.py3-none-any.whl.metadata (2.2 kB)\n",
      "Collecting google-api-core!=2.0.*,!=2.1.*,!=2.2.*,!=2.3.0,<3.0.0,>=1.31.5 (from google-api-python-client)\n",
      "  Downloading google_api_core-2.24.2-py3-none-any.whl.metadata (3.0 kB)\n",
      "Collecting uritemplate<5,>=3.0.1 (from google-api-python-client)\n",
      "  Downloading uritemplate-4.1.1-py2.py3-none-any.whl.metadata (2.9 kB)\n",
      "Collecting googleapis-common-protos<2.0.0,>=1.56.2 (from google-api-core!=2.0.*,!=2.1.*,!=2.2.*,!=2.3.0,<3.0.0,>=1.31.5->google-api-python-client)\n",
      "  Downloading googleapis_common_protos-1.70.0-py3-none-any.whl.metadata (9.3 kB)\n",
      "Collecting protobuf!=3.20.0,!=3.20.1,!=4.21.0,!=4.21.1,!=4.21.2,!=4.21.3,!=4.21.4,!=4.21.5,<7.0.0,>=3.19.5 (from google-api-core!=2.0.*,!=2.1.*,!=2.2.*,!=2.3.0,<3.0.0,>=1.31.5->google-api-python-client)\n",
      "  Downloading protobuf-6.30.2-cp39-abi3-macosx_10_9_universal2.whl.metadata (593 bytes)\n",
      "Collecting proto-plus<2.0.0,>=1.22.3 (from google-api-core!=2.0.*,!=2.1.*,!=2.2.*,!=2.3.0,<3.0.0,>=1.31.5->google-api-python-client)\n",
      "  Downloading proto_plus-1.26.1-py3-none-any.whl.metadata (2.2 kB)\n",
      "Requirement already satisfied: requests<3.0.0,>=2.18.0 in /Users/eceus/Desktop/vscode/.conda/lib/python3.11/site-packages (from google-api-core!=2.0.*,!=2.1.*,!=2.2.*,!=2.3.0,<3.0.0,>=1.31.5->google-api-python-client) (2.32.3)\n",
      "Collecting cachetools<6.0,>=2.0.0 (from google-auth!=2.24.0,!=2.25.0,<3.0.0,>=1.32.0->google-api-python-client)\n",
      "  Downloading cachetools-5.5.2-py3-none-any.whl.metadata (5.4 kB)\n",
      "Collecting pyasn1-modules>=0.2.1 (from google-auth!=2.24.0,!=2.25.0,<3.0.0,>=1.32.0->google-api-python-client)\n",
      "  Downloading pyasn1_modules-0.4.2-py3-none-any.whl.metadata (3.5 kB)\n",
      "Collecting rsa<5,>=3.1.4 (from google-auth!=2.24.0,!=2.25.0,<3.0.0,>=1.32.0->google-api-python-client)\n",
      "  Downloading rsa-4.9.1-py3-none-any.whl.metadata (5.6 kB)\n",
      "Requirement already satisfied: pyparsing!=3.0.0,!=3.0.1,!=3.0.2,!=3.0.3,<4,>=2.4.2 in /Users/eceus/Desktop/vscode/.conda/lib/python3.11/site-packages (from httplib2<1.0.0,>=0.19.0->google-api-python-client) (3.2.3)\n",
      "Collecting pyasn1<0.7.0,>=0.6.1 (from pyasn1-modules>=0.2.1->google-auth!=2.24.0,!=2.25.0,<3.0.0,>=1.32.0->google-api-python-client)\n",
      "  Downloading pyasn1-0.6.1-py3-none-any.whl.metadata (8.4 kB)\n",
      "Requirement already satisfied: charset-normalizer<4,>=2 in /Users/eceus/Desktop/vscode/.conda/lib/python3.11/site-packages (from requests<3.0.0,>=2.18.0->google-api-core!=2.0.*,!=2.1.*,!=2.2.*,!=2.3.0,<3.0.0,>=1.31.5->google-api-python-client) (3.4.2)\n",
      "Requirement already satisfied: idna<4,>=2.5 in /Users/eceus/Desktop/vscode/.conda/lib/python3.11/site-packages (from requests<3.0.0,>=2.18.0->google-api-core!=2.0.*,!=2.1.*,!=2.2.*,!=2.3.0,<3.0.0,>=1.31.5->google-api-python-client) (3.10)\n",
      "Requirement already satisfied: urllib3<3,>=1.21.1 in /Users/eceus/Desktop/vscode/.conda/lib/python3.11/site-packages (from requests<3.0.0,>=2.18.0->google-api-core!=2.0.*,!=2.1.*,!=2.2.*,!=2.3.0,<3.0.0,>=1.31.5->google-api-python-client) (2.4.0)\n",
      "Requirement already satisfied: certifi>=2017.4.17 in /Users/eceus/Desktop/vscode/.conda/lib/python3.11/site-packages (from requests<3.0.0,>=2.18.0->google-api-core!=2.0.*,!=2.1.*,!=2.2.*,!=2.3.0,<3.0.0,>=1.31.5->google-api-python-client) (2025.4.26)\n",
      "Downloading google_api_python_client-2.169.0-py3-none-any.whl (13.3 MB)\n",
      "\u001b[2K   \u001b[90m━━━━━━━━━━━━━━━━━━━━━━━━━━━━━━━━━━━━━━━━\u001b[0m \u001b[32m13.3/13.3 MB\u001b[0m \u001b[31m4.2 MB/s\u001b[0m eta \u001b[36m0:00:00\u001b[0ma \u001b[36m0:00:01\u001b[0m\n",
      "\u001b[?25hDownloading google_api_core-2.24.2-py3-none-any.whl (160 kB)\n",
      "Downloading google_auth-2.40.1-py2.py3-none-any.whl (216 kB)\n",
      "Downloading google_auth_httplib2-0.2.0-py2.py3-none-any.whl (9.3 kB)\n",
      "Downloading httplib2-0.22.0-py3-none-any.whl (96 kB)\n",
      "Downloading uritemplate-4.1.1-py2.py3-none-any.whl (10 kB)\n",
      "Downloading cachetools-5.5.2-py3-none-any.whl (10 kB)\n",
      "Downloading googleapis_common_protos-1.70.0-py3-none-any.whl (294 kB)\n",
      "Downloading proto_plus-1.26.1-py3-none-any.whl (50 kB)\n",
      "Downloading protobuf-6.30.2-cp39-abi3-macosx_10_9_universal2.whl (417 kB)\n",
      "Downloading pyasn1_modules-0.4.2-py3-none-any.whl (181 kB)\n",
      "Downloading rsa-4.9.1-py3-none-any.whl (34 kB)\n",
      "Downloading pyasn1-0.6.1-py3-none-any.whl (83 kB)\n",
      "Installing collected packages: uritemplate, pyasn1, protobuf, httplib2, cachetools, rsa, pyasn1-modules, proto-plus, googleapis-common-protos, google-auth, google-auth-httplib2, google-api-core, google-api-python-client\n",
      "Successfully installed cachetools-5.5.2 google-api-core-2.24.2 google-api-python-client-2.169.0 google-auth-2.40.1 google-auth-httplib2-0.2.0 googleapis-common-protos-1.70.0 httplib2-0.22.0 proto-plus-1.26.1 protobuf-6.30.2 pyasn1-0.6.1 pyasn1-modules-0.4.2 rsa-4.9.1 uritemplate-4.1.1\n",
      "Note: you may need to restart the kernel to use updated packages.\n"
     ]
    }
   ],
   "source": [
    "pip install --upgrade google-api-python-client"
   ]
  },
  {
   "cell_type": "code",
   "execution_count": 3,
   "id": "6e2b645e",
   "metadata": {},
   "outputs": [
    {
     "name": "stdout",
     "output_type": "stream",
     "text": [
      "Collecting google-auth-oauthlib\n",
      "  Downloading google_auth_oauthlib-1.2.2-py3-none-any.whl.metadata (2.7 kB)\n",
      "Requirement already satisfied: google-auth-httplib2 in /Users/eceus/Desktop/vscode/.conda/lib/python3.11/site-packages (0.2.0)\n",
      "Requirement already satisfied: google-auth>=2.15.0 in /Users/eceus/Desktop/vscode/.conda/lib/python3.11/site-packages (from google-auth-oauthlib) (2.40.1)\n",
      "Collecting requests-oauthlib>=0.7.0 (from google-auth-oauthlib)\n",
      "  Downloading requests_oauthlib-2.0.0-py2.py3-none-any.whl.metadata (11 kB)\n",
      "Requirement already satisfied: httplib2>=0.19.0 in /Users/eceus/Desktop/vscode/.conda/lib/python3.11/site-packages (from google-auth-httplib2) (0.22.0)\n",
      "Requirement already satisfied: cachetools<6.0,>=2.0.0 in /Users/eceus/Desktop/vscode/.conda/lib/python3.11/site-packages (from google-auth>=2.15.0->google-auth-oauthlib) (5.5.2)\n",
      "Requirement already satisfied: pyasn1-modules>=0.2.1 in /Users/eceus/Desktop/vscode/.conda/lib/python3.11/site-packages (from google-auth>=2.15.0->google-auth-oauthlib) (0.4.2)\n",
      "Requirement already satisfied: rsa<5,>=3.1.4 in /Users/eceus/Desktop/vscode/.conda/lib/python3.11/site-packages (from google-auth>=2.15.0->google-auth-oauthlib) (4.9.1)\n",
      "Requirement already satisfied: pyparsing!=3.0.0,!=3.0.1,!=3.0.2,!=3.0.3,<4,>=2.4.2 in /Users/eceus/Desktop/vscode/.conda/lib/python3.11/site-packages (from httplib2>=0.19.0->google-auth-httplib2) (3.2.3)\n",
      "Collecting oauthlib>=3.0.0 (from requests-oauthlib>=0.7.0->google-auth-oauthlib)\n",
      "  Downloading oauthlib-3.2.2-py3-none-any.whl.metadata (7.5 kB)\n",
      "Requirement already satisfied: requests>=2.0.0 in /Users/eceus/Desktop/vscode/.conda/lib/python3.11/site-packages (from requests-oauthlib>=0.7.0->google-auth-oauthlib) (2.32.3)\n",
      "Requirement already satisfied: pyasn1<0.7.0,>=0.6.1 in /Users/eceus/Desktop/vscode/.conda/lib/python3.11/site-packages (from pyasn1-modules>=0.2.1->google-auth>=2.15.0->google-auth-oauthlib) (0.6.1)\n",
      "Requirement already satisfied: charset-normalizer<4,>=2 in /Users/eceus/Desktop/vscode/.conda/lib/python3.11/site-packages (from requests>=2.0.0->requests-oauthlib>=0.7.0->google-auth-oauthlib) (3.4.2)\n",
      "Requirement already satisfied: idna<4,>=2.5 in /Users/eceus/Desktop/vscode/.conda/lib/python3.11/site-packages (from requests>=2.0.0->requests-oauthlib>=0.7.0->google-auth-oauthlib) (3.10)\n",
      "Requirement already satisfied: urllib3<3,>=1.21.1 in /Users/eceus/Desktop/vscode/.conda/lib/python3.11/site-packages (from requests>=2.0.0->requests-oauthlib>=0.7.0->google-auth-oauthlib) (2.4.0)\n",
      "Requirement already satisfied: certifi>=2017.4.17 in /Users/eceus/Desktop/vscode/.conda/lib/python3.11/site-packages (from requests>=2.0.0->requests-oauthlib>=0.7.0->google-auth-oauthlib) (2025.4.26)\n",
      "Downloading google_auth_oauthlib-1.2.2-py3-none-any.whl (19 kB)\n",
      "Downloading requests_oauthlib-2.0.0-py2.py3-none-any.whl (24 kB)\n",
      "Downloading oauthlib-3.2.2-py3-none-any.whl (151 kB)\n",
      "Installing collected packages: oauthlib, requests-oauthlib, google-auth-oauthlib\n",
      "Successfully installed google-auth-oauthlib-1.2.2 oauthlib-3.2.2 requests-oauthlib-2.0.0\n",
      "Note: you may need to restart the kernel to use updated packages.\n"
     ]
    }
   ],
   "source": [
    "pip install --upgrade google-auth-oauthlib google-auth-httplib2"
   ]
  },
  {
   "cell_type": "code",
   "execution_count": 21,
   "id": "49382ada",
   "metadata": {},
   "outputs": [],
   "source": [
    "from config.config import YOUTUBE_API_KEY\n",
    "from googleapiclient.discovery import build\n",
    "from IPython.display import JSON"
   ]
  },
  {
   "cell_type": "code",
   "execution_count": 18,
   "id": "2f81f098",
   "metadata": {},
   "outputs": [],
   "source": [
    "api_service_name = \"youtube\"\n",
    "api_version = \"v3\"\n",
    "\n",
    "youtube = build(\n",
    "    api_service_name, api_version, developerKey=YOUTUBE_API_KEY)"
   ]
  },
  {
   "cell_type": "code",
   "execution_count": 19,
   "id": "2da28696",
   "metadata": {},
   "outputs": [],
   "source": [
    "channel_ids = [\n",
    "    \"UCRcHYvd4zi0ejbkQLo9raNw\",\n",
    "]"
   ]
  },
  {
   "cell_type": "code",
   "execution_count": 22,
   "id": "1e69feb2",
   "metadata": {},
   "outputs": [
    {
     "name": "stdout",
     "output_type": "stream",
     "text": [
      "{'kind': 'youtube#channelListResponse', 'etag': 'aYcHQ-GBTd42k2zr4agJjzAeSgM', 'pageInfo': {'totalResults': 1, 'resultsPerPage': 5}, 'items': [{'kind': 'youtube#channel', 'etag': 'aL8V-6GhqvaLgM0uxsCpOCfndtY', 'id': 'UCRcHYvd4zi0ejbkQLo9raNw', 'snippet': {'title': \"Amerika'da Bir Ada\", 'description': \"Merhabalar 🫶🏻 Benim ismim Ada, 2014’te basketbol bursuyla Amerika’ya gelip universite ve yuksek lisansimi tamamladiktan sonra evlendim & simdi Los Angeles’ta yasiyorum. Kanalimda Amerika'daki hayatimdan VLOGlar, saglikli yasam ve tarifler, seyahat videolari veya hayata dair duygu ve dusuncelerimden bahsettigim icerikler bulabilirsiniz 🤓 Eger siz de hayatima dahil olmak isterseniz, kanalima abone olmayi unutmayin!\", 'customUrl': '@amerikadabirada', 'publishedAt': '2011-08-27T20:12:22Z', 'thumbnails': {'default': {'url': 'https://yt3.ggpht.com/B57PN9NtLPek8QTStISNyEMF423bgWfJQTev33uNrcbzbIrBPhvnLLVF0zV4AxaNE4oHD93t=s88-c-k-c0x00ffffff-no-rj', 'width': 88, 'height': 88}, 'medium': {'url': 'https://yt3.ggpht.com/B57PN9NtLPek8QTStISNyEMF423bgWfJQTev33uNrcbzbIrBPhvnLLVF0zV4AxaNE4oHD93t=s240-c-k-c0x00ffffff-no-rj', 'width': 240, 'height': 240}, 'high': {'url': 'https://yt3.ggpht.com/B57PN9NtLPek8QTStISNyEMF423bgWfJQTev33uNrcbzbIrBPhvnLLVF0zV4AxaNE4oHD93t=s800-c-k-c0x00ffffff-no-rj', 'width': 800, 'height': 800}}, 'localized': {'title': \"Amerika'da Bir Ada\", 'description': \"Merhabalar 🫶🏻 Benim ismim Ada, 2014’te basketbol bursuyla Amerika’ya gelip universite ve yuksek lisansimi tamamladiktan sonra evlendim & simdi Los Angeles’ta yasiyorum. Kanalimda Amerika'daki hayatimdan VLOGlar, saglikli yasam ve tarifler, seyahat videolari veya hayata dair duygu ve dusuncelerimden bahsettigim icerikler bulabilirsiniz 🤓 Eger siz de hayatima dahil olmak isterseniz, kanalima abone olmayi unutmayin!\"}, 'country': 'US'}, 'contentDetails': {'relatedPlaylists': {'likes': '', 'uploads': 'UURcHYvd4zi0ejbkQLo9raNw'}}, 'statistics': {'viewCount': '46403848', 'subscriberCount': '280000', 'hiddenSubscriberCount': False, 'videoCount': '247'}}]}\n"
     ]
    }
   ],
   "source": [
    "request = youtube.channels().list(\n",
    "    part=\"snippet,contentDetails,statistics\",\n",
    "    id=\",\".join(channel_ids)\n",
    ")\n",
    "response = request.execute()\n",
    "\n",
    "print(response)"
   ]
  },
  {
   "cell_type": "code",
   "execution_count": 23,
   "id": "bc678753",
   "metadata": {},
   "outputs": [
    {
     "data": {
      "application/json": {
       "etag": "aYcHQ-GBTd42k2zr4agJjzAeSgM",
       "items": [
        {
         "contentDetails": {
          "relatedPlaylists": {
           "likes": "",
           "uploads": "UURcHYvd4zi0ejbkQLo9raNw"
          }
         },
         "etag": "aL8V-6GhqvaLgM0uxsCpOCfndtY",
         "id": "UCRcHYvd4zi0ejbkQLo9raNw",
         "kind": "youtube#channel",
         "snippet": {
          "country": "US",
          "customUrl": "@amerikadabirada",
          "description": "Merhabalar 🫶🏻 Benim ismim Ada, 2014’te basketbol bursuyla Amerika’ya gelip universite ve yuksek lisansimi tamamladiktan sonra evlendim & simdi Los Angeles’ta yasiyorum. Kanalimda Amerika'daki hayatimdan VLOGlar, saglikli yasam ve tarifler, seyahat videolari veya hayata dair duygu ve dusuncelerimden bahsettigim icerikler bulabilirsiniz 🤓 Eger siz de hayatima dahil olmak isterseniz, kanalima abone olmayi unutmayin!",
          "localized": {
           "description": "Merhabalar 🫶🏻 Benim ismim Ada, 2014’te basketbol bursuyla Amerika’ya gelip universite ve yuksek lisansimi tamamladiktan sonra evlendim & simdi Los Angeles’ta yasiyorum. Kanalimda Amerika'daki hayatimdan VLOGlar, saglikli yasam ve tarifler, seyahat videolari veya hayata dair duygu ve dusuncelerimden bahsettigim icerikler bulabilirsiniz 🤓 Eger siz de hayatima dahil olmak isterseniz, kanalima abone olmayi unutmayin!",
           "title": "Amerika'da Bir Ada"
          },
          "publishedAt": "2011-08-27T20:12:22Z",
          "thumbnails": {
           "default": {
            "height": 88,
            "url": "https://yt3.ggpht.com/B57PN9NtLPek8QTStISNyEMF423bgWfJQTev33uNrcbzbIrBPhvnLLVF0zV4AxaNE4oHD93t=s88-c-k-c0x00ffffff-no-rj",
            "width": 88
           },
           "high": {
            "height": 800,
            "url": "https://yt3.ggpht.com/B57PN9NtLPek8QTStISNyEMF423bgWfJQTev33uNrcbzbIrBPhvnLLVF0zV4AxaNE4oHD93t=s800-c-k-c0x00ffffff-no-rj",
            "width": 800
           },
           "medium": {
            "height": 240,
            "url": "https://yt3.ggpht.com/B57PN9NtLPek8QTStISNyEMF423bgWfJQTev33uNrcbzbIrBPhvnLLVF0zV4AxaNE4oHD93t=s240-c-k-c0x00ffffff-no-rj",
            "width": 240
           }
          },
          "title": "Amerika'da Bir Ada"
         },
         "statistics": {
          "hiddenSubscriberCount": false,
          "subscriberCount": "280000",
          "videoCount": "247",
          "viewCount": "46403848"
         }
        }
       ],
       "kind": "youtube#channelListResponse",
       "pageInfo": {
        "resultsPerPage": 5,
        "totalResults": 1
       }
      },
      "text/plain": [
       "<IPython.core.display.JSON object>"
      ]
     },
     "execution_count": 23,
     "metadata": {
      "application/json": {
       "expanded": false,
       "root": "root"
      }
     },
     "output_type": "execute_result"
    }
   ],
   "source": [
    "JSON(response)"
   ]
  },
  {
   "cell_type": "code",
   "execution_count": 50,
   "id": "aabeab1d",
   "metadata": {},
   "outputs": [],
   "source": [
    "#kütüphaneleri içe aktardım\n",
    "import pandas as pd\n",
    "import matplotlib.pyplot as plt\n",
    "from datetime import datetime"
   ]
  },
  {
   "cell_type": "code",
   "execution_count": 45,
   "id": "2c02145b",
   "metadata": {},
   "outputs": [
    {
     "name": "stdout",
     "output_type": "stream",
     "text": [
      "Kanal Adı: Amerika'da Bir Ada\n",
      "Takipçi Sayısı: 280000\n",
      "Görüntülenme Sayısı: 46403848\n",
      "Video Sayısı: 247\n"
     ]
    }
   ],
   "source": [
    "#Kanal istatistiklerini basic şekilde çektim\n",
    "channel = response[\"items\"][0]\n",
    "title = channel[\"snippet\"][\"title\"]\n",
    "subs = channel[\"statistics\"][\"subscriberCount\"]\n",
    "views = channel[\"statistics\"][\"viewCount\"]\n",
    "video_count = channel[\"statistics\"][\"videoCount\"]\n",
    "\n",
    "print(f\"Kanal Adı: {title}\")\n",
    "print(f\"Takipçi Sayısı: {subs}\")\n",
    "print(f\"Görüntülenme Sayısı: {views}\")\n",
    "print(f\"Video Sayısı: {video_count}\")"
   ]
  },
  {
   "cell_type": "code",
   "execution_count": 93,
   "id": "af1ffe11",
   "metadata": {},
   "outputs": [
    {
     "data": {
      "text/plain": [
       "<function matplotlib.pyplot.show(close=None, block=None)>"
      ]
     },
     "execution_count": 93,
     "metadata": {},
     "output_type": "execute_result"
    },
    {
     "data": {
      "image/png": "[encoded data removed]",
      "text/plain": [
       "<Figure size 640x480 with 1 Axes>"
      ]
     },
     "metadata": {},
     "output_type": "display_data"
    }
   ],
   "source": [
    "import matplotlib.pyplot as plt\n",
    "\n",
    "labels = [\"Abone\", \"Görüntülenme\", \"Video\"]\n",
    "values = [int(subs), int(views), int(video_count)]\n",
    "\n",
    "plt.bar(labels,values,color=[\"magenta\",\"salmon\",\"navy\"])\n",
    "plt.title(f\"{title}-Kanal İstatistikleri\")\n",
    "plt.ylabel(\"sayı\")\n",
    "plt.show"
   ]
  },
  {
   "cell_type": "code",
   "execution_count": 51,
   "id": "70686d0f",
   "metadata": {},
   "outputs": [
    {
     "name": "stdout",
     "output_type": "stream",
     "text": [
      "       Category     Value\n",
      "0         Abone    280000\n",
      "1  Görüntülenme  46403848\n",
      "2         Video       247\n"
     ]
    }
   ],
   "source": [
    "data = {\n",
    "    \"Category\" : [\"Abone\",\"Görüntülenme\", \"Video\"],\n",
    "    \"Value\" : [int(subs),int(views),int(video_count)]\n",
    "}\n",
    "\n",
    "df = pd.DataFrame(data)\n",
    "print(df)"
   ]
  },
  {
   "cell_type": "code",
   "execution_count": 57,
   "id": "961c987c",
   "metadata": {},
   "outputs": [],
   "source": [
    "#youtube'da yüklenen tüm videolar uploads'a yükleniyormuş bundan dolayı oradaki tüm videoların id'sini getirdim\n",
    "request = youtube.channels().list(\n",
    "    part=\"contentDetails\",\n",
    "    id=\"UCRcHYvd4zi0ejbkQLo9raNw\"\n",
    ")\n",
    "\n",
    "response = request.execute()\n",
    "\n",
    "uploads_playlist_id = response[\"items\"][0][\"contentDetails\"][\"relatedPlaylists\"][\"uploads\"]"
   ]
  },
  {
   "cell_type": "code",
   "execution_count": 84,
   "id": "0e9eb8a3",
   "metadata": {},
   "outputs": [],
   "source": [
    "video_ids = []\n",
    "\n",
    "request = youtube.playlistItems().list(\n",
    "    part= \"contentDetails\",\n",
    "    playlistId= uploads_playlist_id\n",
    ")\n",
    "\n",
    "response = request.execute()\n",
    "\n",
    "for item in response[\"items\"]:\n",
    "    video_ids.append(item[\"contentDetails\"][\"videoId\"])\n",
    "\n"
   ]
  },
  {
   "cell_type": "code",
   "execution_count": 85,
   "id": "dc75370a",
   "metadata": {},
   "outputs": [],
   "source": [
    "video_data = []\n",
    "\n",
    "for i in range(0, len(video_ids), 50):\n",
    "    ids = ','.join(video_ids[i:i+50])\n",
    "    request = youtube.videos().list(\n",
    "        part=\"snippet,statistics\",\n",
    "        id=ids\n",
    "    )\n",
    "response = request.execute()\n",
    "\n",
    "for video in response['items']:\n",
    "    title = video['snippet']['title']\n",
    "    date = video['snippet']['publishedAt']\n",
    "    views = video['statistics'].get('viewCount', 0)\n",
    "    likes = video['statistics'].get('likeCount', 0)\n",
    "    comments = video['statistics'].get('commentCount', 0)\n",
    "\n",
    "video_data.append([title, date, int(views), int(likes), int(comments)])\n"
   ]
  },
  {
   "cell_type": "code",
   "execution_count": 86,
   "id": "3c5d9a6d",
   "metadata": {},
   "outputs": [
    {
     "name": "stdout",
     "output_type": "stream",
     "text": [
      "                                              Başlık  \\\n",
      "0  yeni yıla verimli girelim: güncel hedeflerim v...   \n",
      "\n",
      "                      Tarih  İzlenme  Beğeni  Yorum  \n",
      "0 2025-01-07 08:00:19+00:00    79774    2619    470  \n"
     ]
    }
   ],
   "source": [
    "df_videos = pd.DataFrame(video_data, columns=['Başlık', 'Tarih', 'İzlenme', 'Beğeni', 'Yorum'])\n",
    "df_videos['Tarih'] = pd.to_datetime(df_videos['Tarih'])\n",
    "df_videos.sort_values(by='Tarih', ascending=False, inplace=True)\n",
    "\n",
    "print(df_videos.head())\n"
   ]
  },
  {
   "cell_type": "code",
   "execution_count": 87,
   "id": "f5ed1e8a",
   "metadata": {},
   "outputs": [
    {
     "name": "stdout",
     "output_type": "stream",
     "text": [
      "                                              Başlık  İzlenme\n",
      "0  yeni yıla verimli girelim: güncel hedeflerim v...    79774\n"
     ]
    }
   ],
   "source": [
    "top_videos = df_videos.sort_values(by='İzlenme', ascending=False).head(10)\n",
    "print(top_videos[['Başlık', 'İzlenme']])"
   ]
  }
 ],
 "metadata": {
  "kernelspec": {
   "display_name": "Python 3",
   "language": "python",
   "name": "python3"
  },
  "language_info": {
   "codemirror_mode": {
    "name": "ipython",
    "version": 3
   },
   "file_extension": ".py",
   "mimetype": "text/x-python",
   "name": "python",
   "nbconvert_exporter": "python",
   "pygments_lexer": "ipython3",
   "version": "3.11.11"
  }
 },
 "nbformat": 4,
 "nbformat_minor": 5
}
