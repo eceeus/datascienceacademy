{
 "cells": [
  {
   "cell_type": "code",
   "execution_count": 3,
   "id": "b22dff0e",
   "metadata": {},
   "outputs": [
    {
     "name": "stdout",
     "output_type": "stream",
     "text": [
      "10\n"
     ]
    }
   ],
   "source": [
    "my_variable = 10\n",
    "print(my_variable)"
   ]
  },
  {
   "cell_type": "code",
   "execution_count": 4,
   "id": "afbe5eb0",
   "metadata": {},
   "outputs": [
    {
     "data": {
      "text/plain": [
       "int"
      ]
     },
     "execution_count": 4,
     "metadata": {},
     "output_type": "execute_result"
    }
   ],
   "source": [
    "type(my_variable)"
   ]
  },
  {
   "cell_type": "code",
   "execution_count": 5,
   "id": "ab0de4e4",
   "metadata": {},
   "outputs": [
    {
     "name": "stdout",
     "output_type": "stream",
     "text": [
      "<class 'str'>\n",
      "Counter({' ': 2, 't': 2, 'e': 2, 'a': 2, 'm': 1, 'y': 1, 'x': 1, 'v': 1, 'r': 1, 'i': 1, 'b': 1, 'l': 1})\n"
     ]
    }
   ],
   "source": [
    "import collections\n",
    "\n",
    "my_text_variable = \"my text variable\"\n",
    "print(type(my_text_variable))\n",
    "\n",
    "print(collections.Counter(my_text_variable))"
   ]
  },
  {
   "cell_type": "code",
   "execution_count": 6,
   "id": "0b84d763",
   "metadata": {},
   "outputs": [],
   "source": [
    "MY_CONSTANT = 10\n",
    "#sabit kalıcak ifadeler okuma kolaylığı sağlaması açısından büyük harflerle yazılır"
   ]
  },
  {
   "cell_type": "code",
   "execution_count": 11,
   "id": "16fa85fe",
   "metadata": {},
   "outputs": [],
   "source": [
    "###Fonksiyonlar##"
   ]
  },
  {
   "cell_type": "code",
   "execution_count": 12,
   "id": "c010407e",
   "metadata": {},
   "outputs": [
    {
     "name": "stdout",
     "output_type": "stream",
     "text": [
      "25\n"
     ]
    }
   ],
   "source": [
    "20 + 5\n",
    "print(20 + 5)"
   ]
  },
  {
   "cell_type": "code",
   "execution_count": 20,
   "id": "a2b3ab26",
   "metadata": {},
   "outputs": [],
   "source": [
    "def add_two_numbers(number_one, number_two):\n",
    "    total = number_one + number_two\n",
    "    return total"
   ]
  },
  {
   "cell_type": "code",
   "execution_count": 21,
   "id": "bf6cc147",
   "metadata": {},
   "outputs": [
    {
     "name": "stdout",
     "output_type": "stream",
     "text": [
      "13\n",
      "<class 'int'>\n"
     ]
    }
   ],
   "source": [
    "result = add_two_numbers(12, 1)\n",
    "print(result)\n",
    "print(type(result))"
   ]
  },
  {
   "cell_type": "code",
   "execution_count": 22,
   "id": "398ec550",
   "metadata": {},
   "outputs": [
    {
     "name": "stdout",
     "output_type": "stream",
     "text": [
      "13\n",
      "<class 'int'>\n"
     ]
    }
   ],
   "source": [
    "result = add_two_numbers(12, 1)\n",
    "print(result)\n",
    "print(type(result))"
   ]
  },
  {
   "cell_type": "code",
   "execution_count": 23,
   "id": "d770f62b",
   "metadata": {},
   "outputs": [],
   "source": [
    "import math"
   ]
  },
  {
   "cell_type": "code",
   "execution_count": 24,
   "id": "4bd997f1",
   "metadata": {},
   "outputs": [],
   "source": [
    "power = math.pow(2, 4)"
   ]
  },
  {
   "cell_type": "code",
   "execution_count": 25,
   "id": "29b7ecad",
   "metadata": {},
   "outputs": [
    {
     "name": "stdout",
     "output_type": "stream",
     "text": [
      "<class 'float'>\n",
      "16.0\n"
     ]
    }
   ],
   "source": [
    "print(type(power))\n",
    "print(power)"
   ]
  },
  {
   "cell_type": "code",
   "execution_count": 26,
   "id": "0e848dac",
   "metadata": {},
   "outputs": [
    {
     "data": {
      "text/plain": [
       "0.30000000000000004"
      ]
     },
     "execution_count": 26,
     "metadata": {},
     "output_type": "execute_result"
    }
   ],
   "source": [
    "0.1 * 3"
   ]
  },
  {
   "cell_type": "code",
   "execution_count": 27,
   "id": "e8069152",
   "metadata": {},
   "outputs": [],
   "source": [
    "from decimal import Decimal"
   ]
  },
  {
   "cell_type": "code",
   "execution_count": 28,
   "id": "f5589249",
   "metadata": {},
   "outputs": [
    {
     "data": {
      "text/plain": [
       "Decimal('0.3')"
      ]
     },
     "execution_count": 28,
     "metadata": {},
     "output_type": "execute_result"
    }
   ],
   "source": [
    "Decimal('0.1') * 3"
   ]
  },
  {
   "cell_type": "code",
   "execution_count": 29,
   "id": "ea65ba8c",
   "metadata": {},
   "outputs": [],
   "source": [
    "def my_pow(number_one:int, number_two:int) -> int:\n",
    "    \"\"\"Raise a number to a arbitrary power.\n",
    "\n",
    "    :param number_one: int base number\n",
    "    :param number_two: int power to raise\n",
    "    :return: int - number raised to power of second number\n",
    "\n",
    "    \"\"\"\n",
    "    result = number_one ** number_two\n",
    "    return result"
   ]
  },
  {
   "cell_type": "code",
   "execution_count": 30,
   "id": "bda26319",
   "metadata": {},
   "outputs": [
    {
     "name": "stdout",
     "output_type": "stream",
     "text": [
      "Raise a number to a arbitrary power.\n",
      "\n",
      "    :param number_one: int base number\n",
      "    :param number_two: int power to raise\n",
      "    :return: int - number raised to power of second number\n",
      "\n",
      "    \n"
     ]
    }
   ],
   "source": [
    "print(my_pow.__doc__)"
   ]
  },
  {
   "cell_type": "code",
   "execution_count": 31,
   "id": "79bf85ff",
   "metadata": {},
   "outputs": [
    {
     "name": "stdout",
     "output_type": "stream",
     "text": [
      "str(object='') -> str\n",
      "str(bytes_or_buffer[, encoding[, errors]]) -> str\n",
      "\n",
      "Create a new string object from the given object. If encoding or\n",
      "errors is specified, then the object must expose a data buffer\n",
      "that will be decoded using the given encoding and error handler.\n",
      "Otherwise, returns the result of object.__str__() (if defined)\n",
      "or repr(object).\n",
      "encoding defaults to sys.getdefaultencoding().\n",
      "errors defaults to 'strict'.\n"
     ]
    }
   ],
   "source": [
    "print(str.__doc__)"
   ]
  },
  {
   "cell_type": "code",
   "execution_count": 32,
   "id": "eccabff4",
   "metadata": {},
   "outputs": [],
   "source": [
    "import random"
   ]
  },
  {
   "cell_type": "code",
   "execution_count": 33,
   "id": "a32b1fa8",
   "metadata": {},
   "outputs": [
    {
     "data": {
      "text/plain": [
       "18"
      ]
     },
     "execution_count": 33,
     "metadata": {},
     "output_type": "execute_result"
    }
   ],
   "source": [
    "random.randint(0, 100)"
   ]
  },
  {
   "cell_type": "code",
   "execution_count": 34,
   "id": "fea74b97",
   "metadata": {},
   "outputs": [
    {
     "data": {
      "text/plain": [
       "'v'"
      ]
     },
     "execution_count": 34,
     "metadata": {},
     "output_type": "execute_result"
    }
   ],
   "source": [
    "my_string = \"veri bilimi çok eğlenceli\"\n",
    "my_string[0]"
   ]
  },
  {
   "cell_type": "code",
   "execution_count": 35,
   "id": "52ca0c48",
   "metadata": {},
   "outputs": [
    {
     "data": {
      "text/plain": [
       "' '"
      ]
     },
     "execution_count": 35,
     "metadata": {},
     "output_type": "execute_result"
    }
   ],
   "source": [
    "my_string[4]"
   ]
  },
  {
   "cell_type": "code",
   "execution_count": 36,
   "id": "601517b4",
   "metadata": {},
   "outputs": [
    {
     "data": {
      "text/plain": [
       "'eri bilimi çok eğlenceli'"
      ]
     },
     "execution_count": 36,
     "metadata": {},
     "output_type": "execute_result"
    }
   ],
   "source": [
    "my_string[1:]"
   ]
  },
  {
   "cell_type": "code",
   "execution_count": 37,
   "id": "cacbdb53",
   "metadata": {},
   "outputs": [
    {
     "data": {
      "text/plain": [
       "'ilecnelğe koç imilib irev'"
      ]
     },
     "execution_count": 37,
     "metadata": {},
     "output_type": "execute_result"
    }
   ],
   "source": [
    "my_string[::-1]"
   ]
  },
  {
   "cell_type": "code",
   "execution_count": 38,
   "id": "7a2643f4",
   "metadata": {},
   "outputs": [
    {
     "data": {
      "text/plain": [
       "['veri', 'bilimi', 'çok', 'eğlenceli']"
      ]
     },
     "execution_count": 38,
     "metadata": {},
     "output_type": "execute_result"
    }
   ],
   "source": [
    "my_string.split()"
   ]
  },
  {
   "cell_type": "code",
   "execution_count": 39,
   "id": "ae086941",
   "metadata": {},
   "outputs": [
    {
     "name": "stdout",
     "output_type": "stream",
     "text": [
      "v\n",
      "e\n",
      "r\n",
      "i\n",
      " \n",
      "b\n",
      "i\n",
      "l\n",
      "i\n",
      "m\n",
      "i\n",
      " \n",
      "ç\n",
      "o\n",
      "k\n",
      " \n",
      "e\n",
      "ğ\n",
      "l\n",
      "e\n",
      "n\n",
      "c\n",
      "e\n",
      "l\n",
      "i\n"
     ]
    }
   ],
   "source": [
    "for item in my_string:\n",
    "    print(item)"
   ]
  },
  {
   "cell_type": "code",
   "execution_count": 40,
   "id": "14ddc61d",
   "metadata": {},
   "outputs": [
    {
     "name": "stdout",
     "output_type": "stream",
     "text": [
      "veri\n",
      "bilimi\n",
      "çok\n",
      "eğlenceli\n"
     ]
    }
   ],
   "source": [
    "for item in my_string.split():\n",
    "    print(item)"
   ]
  },
  {
   "cell_type": "code",
   "execution_count": 41,
   "id": "e8654869",
   "metadata": {},
   "outputs": [],
   "source": [
    "##fstrings"
   ]
  },
  {
   "cell_type": "code",
   "execution_count": 42,
   "id": "b872aa78",
   "metadata": {},
   "outputs": [],
   "source": [
    "name = \"Ece\""
   ]
  },
  {
   "cell_type": "code",
   "execution_count": 43,
   "id": "ef7357fe",
   "metadata": {},
   "outputs": [
    {
     "name": "stdout",
     "output_type": "stream",
     "text": [
      "My name is Ece\n"
     ]
    }
   ],
   "source": [
    "\tprint(f\"My name is {name}\")"
   ]
  },
  {
   "cell_type": "code",
   "execution_count": 44,
   "id": "f927d3ab",
   "metadata": {},
   "outputs": [],
   "source": [
    "import datetime"
   ]
  },
  {
   "cell_type": "code",
   "execution_count": 47,
   "id": "5cbe9692",
   "metadata": {},
   "outputs": [],
   "source": [
    "##boolean"
   ]
  },
  {
   "cell_type": "code",
   "execution_count": 48,
   "id": "629a3cdd",
   "metadata": {},
   "outputs": [
    {
     "data": {
      "text/plain": [
       "True"
      ]
     },
     "execution_count": 48,
     "metadata": {},
     "output_type": "execute_result"
    }
   ],
   "source": [
    "bool(1)"
   ]
  },
  {
   "cell_type": "code",
   "execution_count": 49,
   "id": "8382b7b6",
   "metadata": {},
   "outputs": [
    {
     "data": {
      "text/plain": [
       "False"
      ]
     },
     "execution_count": 49,
     "metadata": {},
     "output_type": "execute_result"
    }
   ],
   "source": [
    "bool(0)"
   ]
  },
  {
   "cell_type": "code",
   "execution_count": 50,
   "id": "5fe1a06a",
   "metadata": {},
   "outputs": [
    {
     "name": "stdout",
     "output_type": "stream",
     "text": [
      "hayır, yanlış\n"
     ]
    }
   ],
   "source": [
    "my_variable = 0\n",
    "if my_variable:\n",
    "    print(\"evet, doğru\")\n",
    "else:\n",
    "    print(\"hayır, yanlış\")"
   ]
  },
  {
   "cell_type": "code",
   "execution_count": 51,
   "id": "0a5d2e44",
   "metadata": {},
   "outputs": [
    {
     "name": "stdout",
     "output_type": "stream",
     "text": [
      "True\n",
      "False\n"
     ]
    }
   ],
   "source": [
    "my_variable = 0\n",
    "print(my_variable == False)\n",
    "print(my_variable is False)"
   ]
  },
  {
   "cell_type": "code",
   "execution_count": 52,
   "id": "3904ebef",
   "metadata": {},
   "outputs": [
    {
     "data": {
      "text/plain": [
       "False"
      ]
     },
     "execution_count": 52,
     "metadata": {},
     "output_type": "execute_result"
    }
   ],
   "source": [
    "result = 1 and 0\n",
    "bool(result)"
   ]
  },
  {
   "cell_type": "code",
   "execution_count": 53,
   "id": "bbbd04ce",
   "metadata": {},
   "outputs": [
    {
     "data": {
      "text/plain": [
       "True"
      ]
     },
     "execution_count": 53,
     "metadata": {},
     "output_type": "execute_result"
    }
   ],
   "source": [
    "True or False"
   ]
  },
  {
   "cell_type": "code",
   "execution_count": 55,
   "id": "6fe6a9a9",
   "metadata": {},
   "outputs": [
    {
     "name": "stdout",
     "output_type": "stream",
     "text": [
      "10 is greater than 5\n"
     ]
    }
   ],
   "source": [
    "first_number = 10\n",
    "second_number = 5\n",
    "if first_number > second_number:\n",
    "    print(f\"{first_number} is greater than {second_number}\")\n",
    "elif first_number == second_number:\n",
    "    print(f\"{first_number} is equal with {second_number}\")\n",
    "elif first_number < second_number:\n",
    "    print(f\"{second_number} is greater than {first_number}\")\n",
    "else:\n",
    "    print(\"Nothing else\")"
   ]
  },
  {
   "cell_type": "code",
   "execution_count": 56,
   "id": "bc2c161d",
   "metadata": {},
   "outputs": [
    {
     "data": {
      "text/plain": [
       "True"
      ]
     },
     "execution_count": 56,
     "metadata": {},
     "output_type": "execute_result"
    }
   ],
   "source": [
    "first_number != second_number"
   ]
  },
  {
   "cell_type": "code",
   "execution_count": 57,
   "id": "319ad3d0",
   "metadata": {},
   "outputs": [],
   "source": [
    "empty_list = []"
   ]
  },
  {
   "cell_type": "code",
   "execution_count": 58,
   "id": "b4b39b9a",
   "metadata": {},
   "outputs": [],
   "source": [
    "example_list = [1, \"string\", [1, 2, 3]]"
   ]
  },
  {
   "cell_type": "code",
   "execution_count": 59,
   "id": "beca85e8",
   "metadata": {},
   "outputs": [],
   "source": [
    "test_list = list()"
   ]
  },
  {
   "cell_type": "code",
   "execution_count": 60,
   "id": "7b8ffc16",
   "metadata": {},
   "outputs": [
    {
     "name": "stdout",
     "output_type": "stream",
     "text": [
      "['b', 'i', 'l', 'i', 'm']\n"
     ]
    }
   ],
   "source": [
    "example_list = list(\"bilim\")\n",
    "print(example_list)"
   ]
  },
  {
   "cell_type": "code",
   "execution_count": 61,
   "id": "ed42d768",
   "metadata": {},
   "outputs": [
    {
     "name": "stdout",
     "output_type": "stream",
     "text": [
      "['bilim']\n"
     ]
    }
   ],
   "source": [
    "literal_list = [\"bilim\"]\n",
    "print(literal_list)"
   ]
  },
  {
   "cell_type": "code",
   "execution_count": 62,
   "id": "9b5715e2",
   "metadata": {},
   "outputs": [
    {
     "data": {
      "text/plain": [
       "'veri'"
      ]
     },
     "execution_count": 62,
     "metadata": {},
     "output_type": "execute_result"
    }
   ],
   "source": [
    "example_list = [\"veri\", \"academy\", [1, 2, 3]]\n",
    "example_list[0]"
   ]
  },
  {
   "cell_type": "code",
   "execution_count": 63,
   "id": "5f94479b",
   "metadata": {},
   "outputs": [
    {
     "data": {
      "text/plain": [
       "[1, 2, 3]"
      ]
     },
     "execution_count": 63,
     "metadata": {},
     "output_type": "execute_result"
    }
   ],
   "source": [
    "example_list[-1]"
   ]
  },
  {
   "cell_type": "code",
   "execution_count": 64,
   "id": "6972eceb",
   "metadata": {},
   "outputs": [],
   "source": [
    "colors = [\"yellow\", \"green\", \"red\", \"blue\", \"purple\"]"
   ]
  },
  {
   "cell_type": "code",
   "execution_count": 65,
   "id": "9fb12ead",
   "metadata": {},
   "outputs": [
    {
     "name": "stdout",
     "output_type": "stream",
     "text": [
      "yellow\n",
      "green\n",
      "red\n",
      "blue\n",
      "purple\n"
     ]
    }
   ],
   "source": [
    "for color in colors:\n",
    "    print(color)"
   ]
  },
  {
   "cell_type": "code",
   "execution_count": 66,
   "id": "5f41db8b",
   "metadata": {},
   "outputs": [
    {
     "name": "stdout",
     "output_type": "stream",
     "text": [
      "0: yellow\n",
      "1: green\n",
      "2: red\n",
      "3: blue\n",
      "4: purple\n"
     ]
    }
   ],
   "source": [
    "for index, color in enumerate(colors):\n",
    "    print(f\"{index}: {color}\")"
   ]
  },
  {
   "cell_type": "code",
   "execution_count": 67,
   "id": "03c51b12",
   "metadata": {},
   "outputs": [],
   "source": [
    "cubes_to_1000 = []"
   ]
  },
  {
   "cell_type": "code",
   "execution_count": 69,
   "id": "4124b0f7",
   "metadata": {},
   "outputs": [
    {
     "name": "stdout",
     "output_type": "stream",
     "text": [
      "[1, 8, 27, 64, 125, 216, 343, 512, 729, 1000, 1]\n",
      "[1, 8, 27, 64, 125, 216, 343, 512, 729, 1000, 1, 8]\n",
      "[1, 8, 27, 64, 125, 216, 343, 512, 729, 1000, 1, 8, 27]\n",
      "[1, 8, 27, 64, 125, 216, 343, 512, 729, 1000, 1, 8, 27, 64]\n",
      "[1, 8, 27, 64, 125, 216, 343, 512, 729, 1000, 1, 8, 27, 64, 125]\n",
      "[1, 8, 27, 64, 125, 216, 343, 512, 729, 1000, 1, 8, 27, 64, 125, 216]\n",
      "[1, 8, 27, 64, 125, 216, 343, 512, 729, 1000, 1, 8, 27, 64, 125, 216, 343]\n",
      "[1, 8, 27, 64, 125, 216, 343, 512, 729, 1000, 1, 8, 27, 64, 125, 216, 343, 512]\n",
      "[1, 8, 27, 64, 125, 216, 343, 512, 729, 1000, 1, 8, 27, 64, 125, 216, 343, 512, 729]\n",
      "[1, 8, 27, 64, 125, 216, 343, 512, 729, 1000, 1, 8, 27, 64, 125, 216, 343, 512, 729, 1000]\n"
     ]
    }
   ],
   "source": [
    "for number in range(1, 11):\n",
    "    cubes_to_1000.append(number**3)\n",
    "    print(cubes_to_1000)"
   ]
  },
  {
   "cell_type": "code",
   "execution_count": 70,
   "id": "916b3f8c",
   "metadata": {},
   "outputs": [
    {
     "data": {
      "text/plain": [
       "1000"
      ]
     },
     "execution_count": 70,
     "metadata": {},
     "output_type": "execute_result"
    }
   ],
   "source": [
    "cubes_to_1000.pop()"
   ]
  },
  {
   "cell_type": "code",
   "execution_count": 71,
   "id": "6104b411",
   "metadata": {},
   "outputs": [
    {
     "name": "stdout",
     "output_type": "stream",
     "text": [
      "[1, 8, 27, 64, 125, 216, 343, 512, 729, 1000, 1, 8, 27, 64, 125, 216, 343, 512, 729]\n"
     ]
    }
   ],
   "source": [
    "print(cubes_to_1000)"
   ]
  },
  {
   "cell_type": "code",
   "execution_count": 72,
   "id": "ae376193",
   "metadata": {},
   "outputs": [],
   "source": [
    "my_tuple = tuple()\n",
    "my_tuple = tuple([10])"
   ]
  },
  {
   "cell_type": "code",
   "execution_count": 73,
   "id": "869bd44f",
   "metadata": {},
   "outputs": [
    {
     "name": "stdout",
     "output_type": "stream",
     "text": [
      "(10,)\n"
     ]
    }
   ],
   "source": [
    "print(my_tuple)"
   ]
  },
  {
   "cell_type": "code",
   "execution_count": 74,
   "id": "4865096f",
   "metadata": {},
   "outputs": [],
   "source": [
    "animal_colors = {\n",
    "    \"cat\": \"yellow\",\n",
    "    \"dog\": \"black\",\n",
    "    \"horse\": \"brown\"\n",
    "}\n"
   ]
  },
  {
   "cell_type": "code",
   "execution_count": 75,
   "id": "9c8bfc79",
   "metadata": {},
   "outputs": [
    {
     "name": "stdout",
     "output_type": "stream",
     "text": [
      "('cat', 'dog', 'horse')\n"
     ]
    }
   ],
   "source": [
    "animal_colors_tuple = tuple(animal_colors)\n",
    "print(animal_colors_tuple)"
   ]
  },
  {
   "cell_type": "code",
   "execution_count": 76,
   "id": "069a2002",
   "metadata": {},
   "outputs": [
    {
     "data": {
      "text/plain": [
       "'black'"
      ]
     },
     "execution_count": 76,
     "metadata": {},
     "output_type": "execute_result"
    }
   ],
   "source": [
    "animal_colors[\"dog\"]"
   ]
  }
 ],
 "metadata": {
  "kernelspec": {
   "display_name": "Python 3",
   "language": "python",
   "name": "python3"
  },
  "language_info": {
   "codemirror_mode": {
    "name": "ipython",
    "version": 3
   },
   "file_extension": ".py",
   "mimetype": "text/x-python",
   "name": "python",
   "nbconvert_exporter": "python",
   "pygments_lexer": "ipython3",
   "version": "3.11.11"
  }
 },
 "nbformat": 4,
 "nbformat_minor": 5
}
