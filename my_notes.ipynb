{
 "cells": [
  {
   "cell_type": "markdown",
   "id": "17eb7e0d",
   "metadata": {},
   "source": [
    "Temel Kavramlar\n",
    "- target\n",
    "- features\n",
    "\n",
    "- features --> modelin öğrenmesini sağlayan bağımsız değişkenler\n",
    "- target --> modelin tahmin etmeye çalıştığı bağımlı değişkenler\n",
    "\n",
    "Model\n",
    "- model verilerle eğitilen sonra yeni veriler üzerinde tahmin yapılması için oluşturulan matematiksel yapılar\n",
    "- scikit learn'de \n",
    "    - önce fit ile eğitilir\n",
    "    - sonra predict ile tahmin edilir\n",
    "\n",
    "Train&Test\n",
    "- veriyi ikiye ayırıyoruz.\n",
    "    - x_train y_train modeli oluşturmak için\n",
    "    - x_test y_test modelin başarısını ölçmek için\n",
    "\n",
    "bu kullanımlar sabit olmamakla birlikte genellikle böyle kullanılır, değiştiredebiliriz\n",
    "- test_size=0.2\n",
    "- random_state=42 \n",
    "test size genellikle küçük veri setlerinde 0.1 büyük veri setlerinde 0.2 alınır\n",
    "ayrıca;\n",
    "-test size verinin yüzde kaçının test için ayrıldığını gösterirken\n",
    "-random state rastgeleliği sabitler\n",
    "\n"
   ]
  },
  {
   "cell_type": "markdown",
   "id": "2f5c2b57",
   "metadata": {},
   "source": [
    "Supervised Learning\n",
    "- modelin features ve target verileri ile eğitildiği bir öğrenme metodu\n",
    "- model etiketi öğrenerek yeni verilere doğru tahminler yapmayı amaçlar\n",
    "\n",
    "Supervised Learning Algoritmaları\n",
    "\n",
    "- Linear Regression: Sürekli sayısal veriler için tahmin yapar. \n",
    "- Logistic Regression: İkili sınıflandırma problemi için kullanılır.\n",
    "- Decision Trees: Hem sınıflandırma hem de regresyon problemleri için kullanılabilir.\n",
    "- Random Forest: Birden fazla karar ağacından oluşan bir ensemble modelidir.\n",
    "- Support Vector Machines (SVM): Sınıflandırma problemleri için kullanılır.\n",
    "- K-Nearest Neighbors (KNN): Sınıflandırma ve regresyon için kullanılabilir.\n",
    "- Naive Bayes: İstatistiksel bir sınıflandırma algoritmasıdır.\n",
    "\n",
    "\n",
    "\n"
   ]
  }
 ],
 "metadata": {
  "kernelspec": {
   "display_name": "Python 3",
   "language": "python",
   "name": "python3"
  },
  "language_info": {
   "codemirror_mode": {
    "name": "ipython",
    "version": 3
   },
   "file_extension": ".py",
   "mimetype": "text/x-python",
   "name": "python",
   "nbconvert_exporter": "python",
   "pygments_lexer": "ipython3",
   "version": "3.11.11"
  }
 },
 "nbformat": 4,
 "nbformat_minor": 5
}
