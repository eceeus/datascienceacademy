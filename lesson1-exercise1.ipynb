{
 "cells": [
  {
   "cell_type": "markdown",
   "id": "74e02642",
   "metadata": {},
   "source": [
    "## Exercise 1"
   ]
  },
  {
   "cell_type": "markdown",
   "id": "5fb85c5e",
   "metadata": {},
   "source": [
    "#### Question 1:\n",
    "Write a function that receives a list as parameter and return how many elements it has; if it doesn't have any element return an error."
   ]
  },
  {
   "cell_type": "markdown",
   "id": "e0bc596b",
   "metadata": {},
   "source": [
    "#### Answer 1:"
   ]
  },
  {
   "cell_type": "code",
   "execution_count": 16,
   "id": "bd94655f",
   "metadata": {},
   "outputs": [
    {
     "name": "stdout",
     "output_type": "stream",
     "text": [
      "3\n"
     ]
    }
   ],
   "source": [
    "lst = [1,2,3]\n",
    "def count_elements(lst):\n",
    "    if len(lst) == 0:\n",
    "        return ValueError(\"Liste boş! En az bir eleman içermeli.\") #error ifadesini Liste boş! En az bir eleman içermeli olarak seçtim\n",
    "    else:\n",
    "        return len(lst)\n",
    "print(count_elements(lst))"
   ]
  },
  {
   "cell_type": "code",
   "execution_count": 15,
   "id": "a99faffd",
   "metadata": {},
   "outputs": [
    {
     "name": "stdout",
     "output_type": "stream",
     "text": [
      "Liste boş! En az bir eleman içermeli.\n"
     ]
    }
   ],
   "source": [
    "lst = []\n",
    "print(count_elements(lst))"
   ]
  },
  {
   "cell_type": "markdown",
   "id": "50eb6779",
   "metadata": {},
   "source": [
    "#### Question 2:\n",
    "Write a function that builds a character‑count dict from a string, with an option to ignore case."
   ]
  },
  {
   "cell_type": "markdown",
   "id": "862eb2c2",
   "metadata": {},
   "source": [
    "#### Answer 2:"
   ]
  },
  {
   "cell_type": "code",
   "execution_count": 33,
   "id": "efd8d341",
   "metadata": {},
   "outputs": [
    {
     "name": "stdout",
     "output_type": "stream",
     "text": [
      "{'v': 1, 'e': 2, 'r': 3, 'i': 5, ' ': 2, 'b': 1, 'l': 1, 'm': 2, 'ö': 1, 'g': 1, 'n': 1, 'y': 1, 'o': 1, 'u': 1}\n"
     ]
    }
   ],
   "source": [
    "def character_counter(text, ignore_case=False):\n",
    "    if ignore_case:\n",
    "        text = text.upper() \n",
    "    char_dict = {}\n",
    "\n",
    "    for char in text:\n",
    "        if char in char_dict:\n",
    "            char_dict[char] += 1\n",
    "        else:\n",
    "            char_dict[char] = 1\n",
    "\n",
    "    return char_dict\n",
    "\n",
    "\n",
    "print(character_counter(\"veri bilimi ögreniyorum\"))"
   ]
  },
  {
   "cell_type": "markdown",
   "id": "a2ae4501",
   "metadata": {},
   "source": [
    "#### Question 3:\n",
    "Write a function that filters a list of numbers by a threshold and returns their squares"
   ]
  },
  {
   "cell_type": "markdown",
   "id": "25a2ba90",
   "metadata": {},
   "source": [
    "#### Answer 3:"
   ]
  },
  {
   "cell_type": "code",
   "execution_count": 29,
   "id": "723403ef",
   "metadata": {},
   "outputs": [
    {
     "name": "stdout",
     "output_type": "stream",
     "text": [
      "[225, 400]\n"
     ]
    }
   ],
   "source": [
    "def filter_and_squarelist(numbers, threshold):\n",
    "    result = []\n",
    "    for num in numbers:\n",
    "        if num > threshold:\n",
    "            result.append(num ** 2) \n",
    "    return result\n",
    "\n",
    "print(filter_and_squarelist([1, 9, 15, 20], 10)) \n",
    "\n"
   ]
  }
 ],
 "metadata": {
  "kernelspec": {
   "display_name": "Python 3",
   "language": "python",
   "name": "python3"
  },
  "language_info": {
   "codemirror_mode": {
    "name": "ipython",
    "version": 3
   },
   "file_extension": ".py",
   "mimetype": "text/x-python",
   "name": "python",
   "nbconvert_exporter": "python",
   "pygments_lexer": "ipython3",
   "version": "3.11.11"
  }
 },
 "nbformat": 4,
 "nbformat_minor": 5
}
